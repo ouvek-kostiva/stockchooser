{
 "cells": [
  {
   "cell_type": "code",
   "execution_count": 50,
   "metadata": {
    "collapsed": false
   },
   "outputs": [
    {
     "name": "stdout",
     "output_type": "stream",
     "text": [
      "   index       Date   Open   High   Low  Close   Volume  Adj Close\n",
      "0      0 2017-05-10  76.15  76.35  76.0  76.25  1753000      76.25\n",
      "1      1 2017-05-11  76.10  76.50  76.0  76.50  2007000      76.50\n",
      "dis\n"
     ]
    }
   ],
   "source": [
    "import pandas_datareader.data as web\n",
    "import pandas as pd\n",
    "import datetime as dt\n",
    "from sqlalchemy import create_engine\n",
    "from sqlalchemy.pool import NullPool\n",
    "\n",
    "start = dt.datetime(2017, 5, 10)\n",
    "end = dt.datetime(2017, 5, 11)\n",
    "\n",
    "#df = web.DataReader(\"0050.TW\", 'yahoo', start, end)\n",
    "#df2 = df.reset_index()\n",
    "\n",
    "\n",
    "\n",
    "\n",
    "\n",
    "sql_engine = create_engine('sqlite:///stock1.db', echo=False, poolclass=NullPool)\n",
    "connection = sql_engine.connect()\n",
    "\n",
    "#df2.to_sql('stock', con=connection, if_exists='append')\n",
    "df3 = pd.read_sql_table('stock', con=connection)\n",
    "print(df3)\n",
    "connection.close()\n",
    "sql_engine.dispose()\n",
    "print(\"dis\")\n",
    "#for i in range(len(df)):\n",
    "#    #indexDate = str(df.index[i])\n",
    "#    #indexDate = indexDate[0:10]\n",
    "#    ind = str(df.index[i])[0:10]\n",
    "#    print(df.loc[ind])"
   ]
  }
 ],
 "metadata": {
  "kernelspec": {
   "display_name": "Python 3",
   "language": "python",
   "name": "python3"
  },
  "language_info": {
   "codemirror_mode": {
    "name": "ipython",
    "version": 3
   },
   "file_extension": ".py",
   "mimetype": "text/x-python",
   "name": "python",
   "nbconvert_exporter": "python",
   "pygments_lexer": "ipython3",
   "version": "3.6.0"
  }
 },
 "nbformat": 4,
 "nbformat_minor": 2
}
