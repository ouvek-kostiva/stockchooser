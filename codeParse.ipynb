{
 "cells": [
  {
   "cell_type": "code",
   "execution_count": 37,
   "metadata": {
    "collapsed": false
   },
   "outputs": [
    {
     "name": "stdout",
     "output_type": "stream",
     "text": [
      "               Code\n",
      "0          [70001X]\n",
      "1          [70001Y]\n",
      "2          [70005X]\n",
      "3          [707755]\n",
      "4          [723985]\n",
      "5          [724732]\n",
      "6          [724740]\n",
      "7          [724775]\n",
      "8          [724837]\n",
      "9          [724846]\n",
      "10         [724887]\n",
      "11         [724937]\n",
      "12         [725226]\n",
      "13         [725229]\n",
      "14         [725251]\n",
      "15         [725266]\n",
      "16         [725288]\n",
      "17         [725353]\n",
      "18         [725358]\n",
      "19         [725398]\n",
      "20         [725413]\n",
      "21         [725459]\n",
      "22         [725462]\n",
      "23         [725466]\n",
      "24         [725478]\n",
      "25         [725531]\n",
      "26         [725554]\n",
      "27         [725563]\n",
      "28         [725568]\n",
      "29         [725570]\n",
      "...             ...\n",
      "4628         [8932]\n",
      "4629         [8933]\n",
      "4630         [8934]\n",
      "4631         [8935]\n",
      "4632         [8936]\n",
      "4633         [8937]\n",
      "4634         [8938]\n",
      "4635         [8941]\n",
      "4636         [8942]\n",
      "4637         [9949]\n",
      "4638         [9950]\n",
      "4639         [9951]\n",
      "4640         [9960]\n",
      "4641         [9962]\n",
      "4642       [臺灣存託憑證]\n",
      "4643       [911613]\n",
      "4644  [受益證券-資產基礎證券]\n",
      "4645       [01014S]\n",
      "4646       [01015S]\n",
      "4647       [01016S]\n",
      "4648       [01017S]\n",
      "4649       [01101S]\n",
      "4650       [01102S]\n",
      "4651       [01103S]\n",
      "4652       [01104S]\n",
      "4653       [01106S]\n",
      "4654       [01107S]\n",
      "4655       [01108S]\n",
      "4656       [01109S]\n",
      "4657       [01110S]\n",
      "\n",
      "[4658 rows x 1 columns]\n"
     ]
    }
   ],
   "source": [
    "import os\n",
    "import pandas as pd\n",
    "\n",
    "if os.path.exists(html):\n",
    "    df = pd.read_html(\"http://isin.twse.com.tw/isin/C_public.jsp?strMode=4\")\n",
    "    df = pd.DataFrame(df[0])\n",
    "    df_ = pd.DataFrame(columns=df.ix[0])\n",
    "    for i in range(2,len(df)):\n",
    "        df_ = df_.append({'有價證券代號及名稱' : df.ix[i][0]},ignore_index=True)\n",
    "    c = df_['有價證券代號及名稱']\n",
    "    n = pd.DataFrame({'Code' : []})\n",
    "    for i in c:\n",
    "        a = i.split()\n",
    "        n = n.append({'Code' : [a[0]]},ignore_index=True)    \n",
    "    print(n)\n",
    "    n.to_pickle('Data/codelist_4.pkl')"
   ]
  },
  {
   "cell_type": "code",
   "execution_count": null,
   "metadata": {
    "collapsed": true
   },
   "outputs": [],
   "source": []
  },
  {
   "cell_type": "code",
   "execution_count": null,
   "metadata": {
    "collapsed": true
   },
   "outputs": [],
   "source": []
  }
 ],
 "metadata": {
  "kernelspec": {
   "display_name": "Python 3",
   "language": "python",
   "name": "python3"
  },
  "language_info": {
   "codemirror_mode": {
    "name": "ipython",
    "version": 3
   },
   "file_extension": ".py",
   "mimetype": "text/x-python",
   "name": "python",
   "nbconvert_exporter": "python",
   "pygments_lexer": "ipython3",
   "version": "3.6.0"
  }
 },
 "nbformat": 4,
 "nbformat_minor": 2
}
