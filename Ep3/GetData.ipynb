{
 "cells": [
  {
   "cell_type": "code",
   "execution_count": 37,
   "metadata": {
    "collapsed": false
   },
   "outputs": [
    {
     "name": "stdout",
     "output_type": "stream",
     "text": [
      "Status: 200\n",
      "['EXCHANGE%3DTPE', 'MARKET_OPEN_MINUTE=540', 'MARKET_CLOSE_MINUTE=810', 'INTERVAL=86400', 'COLUMNS=DATE,CLOSE,HIGH,LOW,OPEN,VOLUME', 'DATA=', 'TIMEZONE_OFFSET=480', 'a1495603800,34.5,34.5,34.15,34.3,3216000', '1,34.8,34.95,34.35,34.35,6929000', '2,34.65,34.85,34.55,34.7,4339000', '']\n"
     ]
    }
   ],
   "source": [
    "__author__ = \"Ouvek Kostiva\"\n",
    "__copyright__ = \"2017\"\n",
    "__credits__ = [\"Huang Hsin Yuan\",\"Ouvek Kostiva\"]\n",
    "__maintainer__ = \"Huang Hsin Yuan\"\n",
    "__email__ = \"kostiva@ouvek.com\"\n",
    "__status__ = \"Prototype\"\n",
    "\n",
    "#http://lovecoding.logdown.com/posts/257928-use-yahoo-api-to-obtain-historical-stock-price-data\n",
    "\n",
    "import pandas as pd\n",
    "import sqlite3\n",
    "import requests\n",
    "\n",
    "r = requests.get('https://www.google.com/finance/getprices?q=1101&x=TPE&i=86400&p=1Y&f=d,c,h,l,o,v')\n",
    "print(\"Status:\",r.status_code)\n",
    "lines = r.text.split('\\n')\n",
    "\n",
    "print(lines)"
   ]
  },
  {
   "cell_type": "code",
   "execution_count": 38,
   "metadata": {
    "collapsed": false
   },
   "outputs": [],
   "source": [
    "import pickle\n",
    "output = open('data.pkl', 'wb')\n",
    "pickle.dump(lines, output)"
   ]
  },
  {
   "cell_type": "code",
   "execution_count": 39,
   "metadata": {
    "collapsed": false
   },
   "outputs": [
    {
     "name": "stdout",
     "output_type": "stream",
     "text": [
      "['EXCHANGE%3DTPE', 'MARKET_OPEN_MINUTE=540', 'MARKET_CLOSE_MINUTE=810', 'INTERVAL=86400', 'COLUMNS=DATE,CLOSE,HIGH,LOW,OPEN,VOLUME', 'DATA=', 'TIMEZONE_OFFSET=480', 'a1495603800,34.5,34.5,34.15,34.3,3216000', '1,34.8,34.95,34.35,34.35,6929000', '2,34.65,34.85,34.55,34.7,4339000', '']\n"
     ]
    }
   ],
   "source": [
    "pkl_file = open('data.pkl', 'rb')\n",
    "lines = pickle.load(pkl_file)\n",
    "print(lines)"
   ]
  },
  {
   "cell_type": "code",
   "execution_count": 50,
   "metadata": {
    "collapsed": false
   },
   "outputs": [
    {
     "name": "stdout",
     "output_type": "stream",
     "text": [
      "COLUMNS=DATE,CLOSE,HIGH,LOW,OPEN,VOLUME\n",
      "a1495603800\n",
      "2017-05-24 13:30:00\n",
      "['34.5', '34.5', '34.15', '34.3', '3216000']\n",
      "['34.8', '34.95', '34.35', '34.35', '6929000']\n",
      "['34.65', '34.85', '34.55', '34.7', '4339000']\n"
     ]
    }
   ],
   "source": [
    "import datetime\n",
    "\n",
    "print(lines[4])\n",
    "line7 = lines[7].split(\",\")\n",
    "print(line7[0])\n",
    "print(\n",
    "    datetime.datetime.fromtimestamp(\n",
    "        int(line7[0][1:])\n",
    "    ).strftime('%Y-%m-%d %H:%M:%S')\n",
    ")\n",
    "print(line7[1:])\n",
    "for lin in lines[8:-1]:\n",
    "    print(lin.split(\",\")[1:])"
   ]
  },
  {
   "cell_type": "code",
   "execution_count": 21,
   "metadata": {
    "collapsed": false
   },
   "outputs": [
    {
     "name": "stdout",
     "output_type": "stream",
     "text": [
      "103.65\n"
     ]
    }
   ],
   "source": [
    "print(f.ix['2017-05-01']['Open'])"
   ]
  },
  {
   "cell_type": "code",
   "execution_count": null,
   "metadata": {
    "collapsed": true
   },
   "outputs": [],
   "source": [
    "fh = open(self.filename, 'wb')\n",
    "pickle.dump(data, fh)"
   ]
  },
  {
   "cell_type": "code",
   "execution_count": 3,
   "metadata": {
    "collapsed": false
   },
   "outputs": [
    {
     "name": "stdout",
     "output_type": "stream",
     "text": [
      "3.6.0 |Anaconda 4.3.1 (64-bit)| (default, Dec 23 2016, 11:57:41) [MSC v.1900 64 bit (AMD64)]\n"
     ]
    }
   ],
   "source": [
    "import sys\n",
    "print (sys.version)"
   ]
  }
 ],
 "metadata": {
  "kernelspec": {
   "display_name": "Python 3",
   "language": "python",
   "name": "python3"
  },
  "language_info": {
   "codemirror_mode": {
    "name": "ipython",
    "version": 3
   },
   "file_extension": ".py",
   "mimetype": "text/x-python",
   "name": "python",
   "nbconvert_exporter": "python",
   "pygments_lexer": "ipython3",
   "version": "3.6.0"
  }
 },
 "nbformat": 4,
 "nbformat_minor": 2
}
