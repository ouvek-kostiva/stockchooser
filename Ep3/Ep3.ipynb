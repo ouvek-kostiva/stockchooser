{
 "cells": [
  {
   "cell_type": "markdown",
   "metadata": {},
   "source": [
    "# 1.函式\n",
    "\n",
    "## 將流程 _抽象化、包裝_\n",
    "\n",
    "### def functionName(value):\n",
    "\n",
    "### pass"
   ]
  },
  {
   "cell_type": "code",
   "execution_count": 34,
   "metadata": {
    "collapsed": false
   },
   "outputs": [
    {
     "ename": "SyntaxError",
     "evalue": "unexpected EOF while parsing (<ipython-input-34-b7a7bf3525a9>, line 26)",
     "output_type": "error",
     "traceback": [
      "\u001b[0;36m  File \u001b[0;32m\"<ipython-input-34-b7a7bf3525a9>\"\u001b[0;36m, line \u001b[0;32m26\u001b[0m\n\u001b[0;31m    def blankFunction():\u001b[0m\n\u001b[0m                        ^\u001b[0m\n\u001b[0;31mSyntaxError\u001b[0m\u001b[0;31m:\u001b[0m unexpected EOF while parsing\n"
     ]
    }
   ],
   "source": [
    "def sumOf(num):\n",
    "    total = 0\n",
    "    for i in range(num + 1): #0 ... value-1\n",
    "        total = total + i\n",
    "    \n",
    "    return total\n",
    "print(\"sumOf:\",sumOf(100))\n",
    "\n",
    "# 預設值\n",
    "def sumOf2(num=100):\n",
    "    total = 0\n",
    "    for i in range(num + 1): #0 ... value-1\n",
    "        total = total + i\n",
    "    \n",
    "    return total\n",
    "\n",
    "print(\"sumOf2:\",sumOf2())\n",
    "\n",
    "\n",
    "# 函式還沒寫要在裡面加 pass\n",
    "def passFunction():\n",
    "    pass\n",
    "\n",
    "passFunction()\n",
    "\n",
    "# 如果完全空白就會出錯\n",
    "def blankFunction():"
   ]
  },
  {
   "cell_type": "markdown",
   "metadata": {},
   "source": [
    "# 2.內建函式"
   ]
  },
  {
   "cell_type": "code",
   "execution_count": 52,
   "metadata": {
    "collapsed": false
   },
   "outputs": [
    {
     "name": "stdout",
     "output_type": "stream",
     "text": [
      "輸出\n",
      "絕對值: 5\n",
      "數字 轉 Unicode字: A ㄅ\n",
      "Unicode字 轉 數字: 65 12549\n",
      "10進制 轉 8進制: 0o7\n",
      "10進制 轉 16進制: 0xf\n",
      "轉成 tuple: (1, 2.0, 'th')\n",
      "轉成 list: [1, 2.0, 'th']\n",
      "轉成 int: 2\n",
      "轉成 float: 2.0\n",
      "轉成 complex: (2+0j)\n",
      "取最大值: 3\n",
      "取最小值: 1\n",
      "檢查變數類別: b=1: True  a=[1,2.0,\"th\"] False\n"
     ]
    }
   ],
   "source": [
    "print(\"輸出\")\n",
    "print(\"絕對值:\",abs(-5))\n",
    "print(\"數字 轉 Unicode字:\",chr(65),chr(12549))\n",
    "print(\"Unicode字 轉 數字:\",ord(\"A\"),ord(\"ㄅ\"))\n",
    "print(\"10進制 轉 8進制:\",oct(7))\n",
    "print(\"10進制 轉 16進制:\",hex(15))\n",
    "a = [1,2.0,\"th\"]\n",
    "print(\"轉成 tuple:\",tuple(a))\n",
    "print(\"轉成 list:\",list(a))\n",
    "print(\"轉成 int:\",int(2.0))\n",
    "print(\"轉成 float:\",float(2))\n",
    "print(\"轉成 complex:\",complex(2))\n",
    "print(\"取最大值:\",max(1,2,3))\n",
    "print(\"取最小值:\",min(1,2,3))\n",
    "b = 1\n",
    "print(\"檢查變數類別: b=1:\",isinstance(b, (int)),\" a=[1,2.0,\\\"th\\\"]\",isinstance(a, (int,float)))"
   ]
  },
  {
   "cell_type": "markdown",
   "metadata": {},
   "source": [
    "# 3.可變變數 \\*list \\*tuple **dict"
   ]
  },
  {
   "cell_type": "code",
   "execution_count": 35,
   "metadata": {
    "collapsed": false
   },
   "outputs": [
    {
     "name": "stdout",
     "output_type": "stream",
     "text": [
      "10\n",
      "*tu: 10\n",
      "*li: 10\n",
      "City = Kaohsiung\n",
      "City = Taipei\n"
     ]
    }
   ],
   "source": [
    "def sumOf(*args):\n",
    "    total = 0\n",
    "    for i in args:\n",
    "        total = i + total\n",
    "    return total\n",
    "\n",
    "print(sumOf(1,2,3,4))\n",
    "\n",
    "tu = (1,2,3,4)\n",
    "li = [1,2,3,4]\n",
    "print(\"*tu:\",sumOf(*tu)) #拆解為 1 2 3 4\n",
    "print(\"*li:\",sumOf(*li))\n",
    "\n",
    "def namePlace(**kwargs):\n",
    "    for key in kwargs:\n",
    "        print(key,\"=\",kwargs[key])\n",
    "\n",
    "namePlace(City=\"Kaohsiung\")\n",
    "\n",
    "c = {\"City\":\"Taipei\"}\n",
    "namePlace(**c) #以dict傳入"
   ]
  },
  {
   "cell_type": "markdown",
   "metadata": {},
   "source": [
    "# 4.值和址\n",
    "\n",
    "[Understanding Python variables and Memory Management](http://foobarnbaz.com/2012/07/08/understanding-python-variables/)"
   ]
  },
  {
   "cell_type": "code",
   "execution_count": 36,
   "metadata": {
    "collapsed": false
   },
   "outputs": [
    {
     "name": "stdout",
     "output_type": "stream",
     "text": [
      "a: 1 | addr: 1540471248\n",
      "b: 1 | addr: 1540471248\n",
      "a: 256 | addr: 1540479408\n",
      "b: 1 | addr: 1540471248\n",
      "b: 256 | addr: 1540479408\n",
      "a: 257 | addr: 1902195627248\n",
      "b: 257 | addr: 1902195627216\n",
      "c: Meow | addr: 1902195838848\n",
      "d: Meow | addr: 1902195838848\n",
      "c: Meow Meow | addr: 1902195742064\n",
      "d: Meow Meow | addr: 1902195742128\n"
     ]
    }
   ],
   "source": [
    "a = 1\n",
    "print(\"a:\", a, \"| addr:\",id(a))\n",
    "\n",
    "b = 1\n",
    "print(\"b:\", b, \"| addr:\",id(b))\n",
    "\n",
    "a = 256\n",
    "print(\"a:\", a, \"| addr:\",id(a))\n",
    "\n",
    "b = 1\n",
    "print(\"b:\", b, \"| addr:\",id(b))\n",
    "\n",
    "b = 256\n",
    "print(\"b:\", b, \"| addr:\",id(b))\n",
    "\n",
    "a = 257\n",
    "print(\"a:\", a, \"| addr:\",id(a))\n",
    "\n",
    "b = 257\n",
    "print(\"b:\", b, \"| addr:\",id(b))\n",
    "\n",
    "c = \"Meow\"\n",
    "print(\"c:\", c, \"| addr:\",id(c))\n",
    "\n",
    "d = \"Meow\"\n",
    "print(\"d:\", d, \"| addr:\",id(d))\n",
    "\n",
    "c = \"Meow Meow\"\n",
    "print(\"c:\", c, \"| addr:\",id(c))\n",
    "\n",
    "d = \"Meow Meow\"\n",
    "print(\"d:\", d, \"| addr:\",id(d))"
   ]
  },
  {
   "cell_type": "markdown",
   "metadata": {},
   "source": [
    "# 5"
   ]
  },
  {
   "cell_type": "code",
   "execution_count": null,
   "metadata": {
    "collapsed": true
   },
   "outputs": [],
   "source": []
  },
  {
   "cell_type": "markdown",
   "metadata": {},
   "source": [
    "# 6"
   ]
  },
  {
   "cell_type": "code",
   "execution_count": null,
   "metadata": {
    "collapsed": true
   },
   "outputs": [],
   "source": []
  },
  {
   "cell_type": "markdown",
   "metadata": {},
   "source": [
    "# 7"
   ]
  },
  {
   "cell_type": "code",
   "execution_count": null,
   "metadata": {
    "collapsed": true
   },
   "outputs": [],
   "source": []
  },
  {
   "cell_type": "markdown",
   "metadata": {},
   "source": [
    "# 8"
   ]
  },
  {
   "cell_type": "code",
   "execution_count": null,
   "metadata": {
    "collapsed": true
   },
   "outputs": [],
   "source": []
  },
  {
   "cell_type": "markdown",
   "metadata": {},
   "source": [
    "# 9"
   ]
  },
  {
   "cell_type": "code",
   "execution_count": null,
   "metadata": {
    "collapsed": true
   },
   "outputs": [],
   "source": []
  },
  {
   "cell_type": "markdown",
   "metadata": {},
   "source": [
    "# 10"
   ]
  },
  {
   "cell_type": "code",
   "execution_count": null,
   "metadata": {
    "collapsed": true
   },
   "outputs": [],
   "source": []
  },
  {
   "cell_type": "markdown",
   "metadata": {},
   "source": [
    "# 11"
   ]
  },
  {
   "cell_type": "code",
   "execution_count": null,
   "metadata": {
    "collapsed": true
   },
   "outputs": [],
   "source": []
  },
  {
   "cell_type": "markdown",
   "metadata": {},
   "source": [
    "# 12"
   ]
  },
  {
   "cell_type": "code",
   "execution_count": null,
   "metadata": {
    "collapsed": true
   },
   "outputs": [],
   "source": []
  },
  {
   "cell_type": "markdown",
   "metadata": {},
   "source": [
    "# 13"
   ]
  },
  {
   "cell_type": "code",
   "execution_count": null,
   "metadata": {
    "collapsed": true
   },
   "outputs": [],
   "source": []
  },
  {
   "cell_type": "markdown",
   "metadata": {},
   "source": [
    "# 14"
   ]
  },
  {
   "cell_type": "code",
   "execution_count": null,
   "metadata": {
    "collapsed": true
   },
   "outputs": [],
   "source": []
  }
 ],
 "metadata": {
  "kernelspec": {
   "display_name": "Python 3",
   "language": "python",
   "name": "python3"
  },
  "language_info": {
   "codemirror_mode": {
    "name": "ipython",
    "version": 3
   },
   "file_extension": ".py",
   "mimetype": "text/x-python",
   "name": "python",
   "nbconvert_exporter": "python",
   "pygments_lexer": "ipython3",
   "version": "3.6.0"
  }
 },
 "nbformat": 4,
 "nbformat_minor": 2
}
