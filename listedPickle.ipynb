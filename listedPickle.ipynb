{
 "cells": [
  {
   "cell_type": "code",
   "execution_count": 11,
   "metadata": {
    "collapsed": false
   },
   "outputs": [
    {
     "name": "stdout",
     "output_type": "stream",
     "text": [
      "Warning: Loading pickled data received from untrusted sources can be unsafe\n",
      "Loading...\n",
      "0    [0050]\n",
      "1    [0051]\n",
      "2    [0052]\n",
      "3    [0053]\n",
      "4    [0054]\n",
      "Name: Code, dtype: object\n"
     ]
    }
   ],
   "source": [
    "import pandas as pd\n",
    "import os\n",
    "\n",
    "def getCode():\n",
    "    if os.path.exists('OriginData/List.csv'):\n",
    "        codelist = pd.read_csv('OriginData/List.csv',header=0)\n",
    "        c = codelist['證券代碼']\n",
    "        n = pd.DataFrame({'Code' : []})\n",
    "        for i in c:\n",
    "            i = i.split(\" \")\n",
    "            n = n.append({'Code' : [i[0]]},ignore_index=True)    \n",
    "        n.to_pickle('Data/codelist.pkl')\n",
    "        return 1;\n",
    "    else:\n",
    "        print(\"Data does not exist!\")\n",
    "        return 0;\n",
    "    \n",
    "def readCode():\n",
    "    print(\"Warning: Loading pickled data received from untrusted sources can be unsafe\")\n",
    "    if os.path.exists('Data/codelist.pkl'):\n",
    "        codelist = pd.read_pickle('Data/codelist.pkl')\n",
    "        print(\"Loading...\")\n",
    "        return codelist\n",
    "    else:\n",
    "        print(\"CodeList does not exist, please try again or check\")\n",
    "        getReturnCode = getCode()\n",
    "        if 1 == getReturnCode:\n",
    "            print(\"CodeList retrieved!\")\n",
    "            return readCode()\n",
    "        else:\n",
    "            print(\"Please make sure Data is in OriginData/List.csv\")\n",
    "            return 0;\n",
    "\n",
    "codelist = readCode()\n",
    "if isinstance(codelist,pd.DataFrame):\n",
    "    print(codelist['Code'].head())\n",
    "else:\n",
    "    print(\"Error! Please check you have OriginData/List.csv or Data/codelist.pkl\")"
   ]
  },
  {
   "cell_type": "code",
   "execution_count": null,
   "metadata": {
    "collapsed": true
   },
   "outputs": [],
   "source": []
  }
 ],
 "metadata": {
  "kernelspec": {
   "display_name": "Python 3",
   "language": "python",
   "name": "python3"
  },
  "language_info": {
   "codemirror_mode": {
    "name": "ipython",
    "version": 3
   },
   "file_extension": ".py",
   "mimetype": "text/x-python",
   "name": "python",
   "nbconvert_exporter": "python",
   "pygments_lexer": "ipython3",
   "version": "3.6.0"
  }
 },
 "nbformat": 4,
 "nbformat_minor": 2
}
